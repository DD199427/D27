{
 "cells": [
  {
   "cell_type": "code",
   "execution_count": 4,
   "metadata": {},
   "outputs": [
    {
     "data": {
      "text/plain": [
       "'enabl'"
      ]
     },
     "execution_count": 4,
     "metadata": {},
     "output_type": "execute_result"
    }
   ],
   "source": [
    "import nltk\n",
    "from nltk.stem import PorterStemmer\n",
    "stemmerporter=PorterStemmer()\n",
    "stemmerporter.stem(\"enable\")"
   ]
  },
  {
   "cell_type": "code",
   "execution_count": 5,
   "metadata": {},
   "outputs": [
    {
     "data": {
      "text/plain": [
       "'en'"
      ]
     },
     "execution_count": 5,
     "metadata": {},
     "output_type": "execute_result"
    }
   ],
   "source": [
    "import nltk\n",
    "from nltk.stem import LancasterStemmer\n",
    "stemmerporter=LancasterStemmer()\n",
    "stemmerporter.stem(\"enable\")"
   ]
  },
  {
   "cell_type": "code",
   "execution_count": 7,
   "metadata": {},
   "outputs": [
    {
     "data": {
      "text/plain": [
       "'enable'"
      ]
     },
     "execution_count": 7,
     "metadata": {},
     "output_type": "execute_result"
    }
   ],
   "source": [
    "import nltk\n",
    "from nltk.stem import RegexpStemmer\n",
    "stemmerporter=RegexpStemmer(\"ing\")# irs regex op where it screen for suffixes we specify\n",
    "stemmerporter.stem(\"enable\")"
   ]
  },
  {
   "cell_type": "code",
   "execution_count": 8,
   "metadata": {},
   "outputs": [
    {
     "data": {
      "text/plain": [
       "'enable'"
      ]
     },
     "execution_count": 8,
     "metadata": {},
     "output_type": "execute_result"
    }
   ],
   "source": [
    "import nltk\n",
    "from nltk.stem import RegexpStemmer\n",
    "stemmerporter=RegexpStemmer(\"ing\")# irs regex op where it screen for suffixes we specify\n",
    "stemmerporter.stem(\"enable\")"
   ]
  },
  {
   "cell_type": "code",
   "execution_count": 14,
   "metadata": {},
   "outputs": [
    {
     "name": "stdout",
     "output_type": "stream",
     "text": [
      "arabic danish dutch english finnish french german hungarian italian norwegian porter portuguese romanian russian spanish swedish\n"
     ]
    },
    {
     "data": {
      "text/plain": [
       "'enye'"
      ]
     },
     "execution_count": 14,
     "metadata": {},
     "output_type": "execute_result"
    }
   ],
   "source": [
    "import nltk\n",
    "from nltk.stem.snowball import SnowballStemmer\n",
    "print(\" \".join(SnowballStemmer.languages))\n",
    "stemmerporter=SnowballStemmer(\"hungarian\")\n",
    "stemmerporter.stem(\"enyém\")"
   ]
  },
  {
   "cell_type": "code",
   "execution_count": 16,
   "metadata": {},
   "outputs": [
    {
     "name": "stdout",
     "output_type": "stream",
     "text": [
      "I am the devil go to heaven\n"
     ]
    }
   ],
   "source": [
    "import nltk\n",
    "from nltk.stem import PorterStemmer\n",
    "stemmerporter=PorterStemmer()\n",
    "eg=\"I am the Devil going to heaven\"\n",
    "eg=[stemmerporter.stem(token) for token in eg.split()]# tokenize one sentence and stem it..\n",
    "print(\" \".join(eg))"
   ]
  },
  {
   "cell_type": "code",
   "execution_count": 35,
   "metadata": {},
   "outputs": [
    {
     "data": {
      "text/plain": [
       "'jackal'"
      ]
     },
     "execution_count": 35,
     "metadata": {},
     "output_type": "execute_result"
    }
   ],
   "source": [
    "import nltk\n",
    "#nltk.download('wordnet')\n",
    "from nltk.stem import WordNetLemmatizer\n",
    "lemm=WordNetLemmatizer()\n",
    "lemm.lemmatize(\"jackals\")"
   ]
  },
  {
   "cell_type": "code",
   "execution_count": 36,
   "metadata": {},
   "outputs": [
    {
     "name": "stdout",
     "output_type": "stream",
     "text": [
      "I\n"
     ]
    }
   ],
   "source": [
    "print(lemm.lemmatize(\"I\",pos=\"n\"))#noun"
   ]
  },
  {
   "cell_type": "code",
   "execution_count": 25,
   "metadata": {},
   "outputs": [
    {
     "name": "stdout",
     "output_type": "stream",
     "text": [
      "be\n"
     ]
    }
   ],
   "source": [
    "print(lemm.lemmatize(\"am\",pos=\"v\"))#verb"
   ]
  },
  {
   "cell_type": "code",
   "execution_count": 29,
   "metadata": {},
   "outputs": [
    {
     "name": "stdout",
     "output_type": "stream",
     "text": [
      "his\n"
     ]
    }
   ],
   "source": [
    "print(lemm.lemmatize(\"his\",pos=\"n\"))"
   ]
  },
  {
   "cell_type": "code",
   "execution_count": 33,
   "metadata": {},
   "outputs": [
    {
     "name": "stdout",
     "output_type": "stream",
     "text": [
      "我 在 这里\n"
     ]
    }
   ],
   "source": [
    "import jieba\n",
    "sg=jieba.cut(\"我在这里\",cut_all=True)# maybe group characters in chinese according to the sentence in referance language\n",
    "print(\" \".join(sg))"
   ]
  },
  {
   "cell_type": "code",
   "execution_count": 51,
   "metadata": {},
   "outputs": [
    {
     "name": "stdout",
     "output_type": "stream",
     "text": [
      "['We', 'are', 'family']\n"
     ]
    }
   ],
   "source": [
    "txt=\"We are family\"\n",
    "#nltk.download('punkt')\n",
    "print(nltk.word_tokenize(txt))"
   ]
  },
  {
   "cell_type": "code",
   "execution_count": 3,
   "metadata": {},
   "outputs": [
    {
     "ename": "NameError",
     "evalue": "name 'nltk' is not defined",
     "output_type": "error",
     "traceback": [
      "\u001b[1;31m---------------------------------------------------------------------------\u001b[0m",
      "\u001b[1;31mNameError\u001b[0m                                 Traceback (most recent call last)",
      "\u001b[1;32m<ipython-input-3-26632d5bdb80>\u001b[0m in \u001b[0;36m<module>\u001b[1;34m\u001b[0m\n\u001b[0;32m      2\u001b[0m \u001b[1;32mfor\u001b[0m \u001b[0mline\u001b[0m \u001b[1;32min\u001b[0m \u001b[0mtext\u001b[0m\u001b[1;33m:\u001b[0m\u001b[1;33m\u001b[0m\u001b[1;33m\u001b[0m\u001b[0m\n\u001b[0;32m      3\u001b[0m     \u001b[1;32mfor\u001b[0m \u001b[0mword\u001b[0m \u001b[1;32min\u001b[0m \u001b[0mline\u001b[0m\u001b[1;33m:\u001b[0m\u001b[1;33m\u001b[0m\u001b[1;33m\u001b[0m\u001b[0m\n\u001b[1;32m----> 4\u001b[1;33m         \u001b[0mst\u001b[0m\u001b[1;33m=\u001b[0m\u001b[0mnltk\u001b[0m\u001b[1;33m.\u001b[0m\u001b[0msent_tokenize\u001b[0m\u001b[1;33m(\u001b[0m\u001b[0mword\u001b[0m\u001b[1;33m)\u001b[0m\u001b[1;31m#tokenize sentences in a file\u001b[0m\u001b[1;33m\u001b[0m\u001b[1;33m\u001b[0m\u001b[0m\n\u001b[0m\u001b[0;32m      5\u001b[0m         \u001b[1;32mfor\u001b[0m \u001b[0ms\u001b[0m \u001b[1;32min\u001b[0m \u001b[0mst\u001b[0m\u001b[1;33m:\u001b[0m\u001b[1;33m\u001b[0m\u001b[1;33m\u001b[0m\u001b[0m\n\u001b[0;32m      6\u001b[0m             \u001b[0mprint\u001b[0m\u001b[1;33m(\u001b[0m\u001b[0mnltk\u001b[0m\u001b[1;33m.\u001b[0m\u001b[0mword_tokenize\u001b[0m\u001b[1;33m(\u001b[0m\u001b[0ms\u001b[0m\u001b[1;33m)\u001b[0m\u001b[1;33m)\u001b[0m\u001b[1;31m#tokenize words in sentences in\u001b[0m\u001b[1;33m\u001b[0m\u001b[1;33m\u001b[0m\u001b[0m\n",
      "\u001b[1;31mNameError\u001b[0m: name 'nltk' is not defined"
     ]
    }
   ],
   "source": [
    "text=\"Freedom House consistently ranks China as 'Not Free' in its annual press freedom survey, including the 2014 report.\"\n",
    "for line in text:\n",
    "    for word in line:\n",
    "        st=nltk.sent_tokenize(word)#tokenize sentences in a file\n",
    "        for s in st:\n",
    "            print(nltk.word_tokenize(s))#tokenize words in sentences in "
   ]
  },
  {
   "cell_type": "code",
   "execution_count": 41,
   "metadata": {},
   "outputs": [
    {
     "name": "stdout",
     "output_type": "stream",
     "text": [
      "[\"Freedom House consistently ranks China as 'Not Free' in its annual press freedom survey, including the 2014 report.\"]\n"
     ]
    }
   ],
   "source": [
    "print(st)"
   ]
  },
  {
   "cell_type": "code",
   "execution_count": 50,
   "metadata": {},
   "outputs": [
    {
     "name": "stdout",
     "output_type": "stream",
     "text": [
      "[('W', 'NNP'), ('i', 'NN'), ('t', 'VBP'), ('h', 'NN'), (' ', 'NNP'), ('m', 'VBZ'), ('a', 'DT'), ('l', 'NN'), ('i', 'NN'), ('c', 'VBP'), ('e', 'NN'), (' ', 'VBP'), ('a', 'DT'), ('f', 'NN'), ('o', 'NN'), ('r', 'NN'), ('e', 'NN'), ('t', 'NN'), ('h', 'NN'), ('o', 'JJ'), ('u', 'JJ'), ('g', 'NN'), ('h', 'NN'), ('t', 'NN'), (' ', 'NNP'), ('–', 'NNP'), (' ', 'NNP'), ('O', 'NNP'), ('r', 'NN'), ('i', 'NN'), ('g', 'VBP'), ('i', 'NN'), ('n', 'VBP'), ('a', 'DT'), ('l', 'NN'), ('l', 'NN'), ('y', 'NN'), (' ', 'NNP'), ('m', 'VBZ'), ('a', 'DT'), ('l', 'NN'), ('i', 'NN'), ('c', 'VBP'), ('e', 'NN'), (' ', 'VBP'), ('a', 'DT'), ('f', 'NN'), ('o', 'NN'), ('r', 'NN'), ('e', 'NN'), ('t', 'NN'), ('h', 'NN'), ('o', 'JJ'), ('u', 'JJ'), ('g', 'NN'), ('h', 'NN'), ('t', 'NN'), (' ', 'NNP'), ('c', 'VBZ'), ('a', 'DT'), ('r', 'NN'), ('r', 'NN'), ('i', 'NN'), ('e', 'VBP'), ('d', 'NN'), (' ', 'NN'), ('i', 'NN'), ('t', 'VBP'), ('s', 'NN'), (' ', 'NNP'), ('e', 'NN'), ('v', 'NN'), ('e', 'NN'), ('r', 'NN'), ('y', 'NN'), ('d', 'VBZ'), ('a', 'DT'), ('y', 'NN'), (' ', 'NNP'), ('m', 'NN'), ('e', 'VBZ'), ('a', 'DT'), ('n', 'NN'), ('i', 'NN'), ('n', 'VBP'), ('g', 'NN'), (' ', 'NNP'), ('–', 'NNP'), (' ', 'VBZ'), ('a', 'DT'), (' ', 'JJ'), ('d', 'NN'), ('e', 'NN'), ('l', 'NN'), ('i', 'NN'), ('b', 'VBP'), ('e', 'NN'), ('r', 'NN'), ('a', 'DT'), ('t', 'NN'), ('e', 'NN'), (' ', 'VBZ'), ('a', 'DT'), ('n', 'JJ'), ('d', 'NN'), (' ', 'NNP'), ('p', 'NN'), ('r', 'NN'), ('e', 'NN'), ('m', 'NN'), ('e', 'NN'), ('d', 'NN'), ('i', 'NN'), ('t', 'VBP'), ('a', 'DT'), ('t', 'NN'), ('e', 'NN'), ('d', 'NN'), (' ', 'NNP'), ('(', '('), ('p', 'JJ'), ('r', 'NN'), ('i', 'NN'), ('o', 'VBP'), ('r', 'NN'), (' ', 'NN'), ('i', 'NN'), ('n', 'VBP'), ('t', 'NN'), ('e', 'NN'), ('n', 'IN'), ('t', 'NN'), (')', ')'), (' ', 'VBZ'), ('k', 'NN'), ('i', 'JJ'), ('l', 'VBP'), ('l', 'NN'), ('i', 'NN'), ('n', 'VBP'), ('g', 'NN'), (' ', 'NNP'), ('o', 'VBZ'), ('f', 'JJ'), (' ', 'IN'), ('a', 'DT'), ('n', 'JJ'), ('o', 'NN'), ('t', 'NN'), ('h', 'NN'), ('e', 'NN'), ('r', 'NN'), (' ', 'NNP'), ('m', 'NN'), ('o', 'NN'), ('t', 'NN'), ('i', 'NN'), ('v', 'VBP'), ('a', 'DT'), ('t', 'NN'), ('e', 'NN'), ('d', 'NN'), (' ', 'NN'), ('b', 'NN'), ('y', 'NN'), (' ', 'NN'), ('i', 'NN'), ('l', 'VBP'), ('l', 'NN'), (' ', 'NNP'), ('w', 'NN'), ('i', 'NN'), ('l', 'VBP'), ('l', 'NN'), ('.', '.'), (' ', 'CC'), ('M', 'NNP'), ('u', 'JJ'), ('r', 'NN'), ('d', 'NN'), ('e', 'NN'), ('r', 'NN'), (' ', 'NNP'), ('n', 'CC'), ('e', 'JJ'), ('c', 'NNS'), ('e', 'VBP'), ('s', 'JJ'), ('s', 'NN'), ('a', 'DT'), ('r', 'NN'), ('i', 'NN'), ('l', 'VBP'), ('y', 'NN'), (' ', 'NNP'), ('r', 'NN'), ('e', 'NN'), ('q', 'IN'), ('u', 'JJ'), ('i', 'NN'), ('r', 'VBP'), ('e', 'NN'), ('d', 'NN'), (' ', 'NNP'), ('t', 'NN'), ('h', 'VBD'), ('a', 'DT'), ('t', 'NN'), (' ', 'VBZ'), ('a', 'DT'), ('n', 'JJ'), (' ', 'NN'), ('a', 'DT'), ('p', 'NN'), ('p', 'NN'), ('r', 'NN'), ('e', 'IN'), ('c', 'NN'), ('i', 'NN'), ('a', 'DT'), ('b', 'NN'), ('l', 'NN'), ('e', 'NN'), (' ', 'NNP'), ('t', 'NN'), ('i', 'NN'), ('m', 'VBP'), ('e', 'NN'), (' ', 'NNP'), ('p', 'VBZ'), ('a', 'DT'), ('s', 'JJ'), ('s', 'NN'), (' ', 'NN'), ('b', 'NN'), ('e', 'NN'), ('t', 'NN'), ('w', 'NN'), ('e', 'NN'), ('e', 'NN'), ('n', 'JJ'), (' ', 'NNP'), ('t', 'NN'), ('h', 'NN'), ('e', 'NN'), (' ', 'NNP'), ('f', 'NN'), ('o', 'NN'), ('r', 'NN'), ('m', 'VBD'), ('a', 'DT'), ('t', 'NN'), ('i', 'NN'), ('o', 'VBP'), ('n', 'RB'), (' ', 'VBP'), ('a', 'DT'), ('n', 'JJ'), ('d', 'NN'), (' ', 'NNP'), ('e', 'NN'), ('x', 'NNP'), ('e', 'VBZ'), ('c', 'JJ'), ('u', 'JJ'), ('t', 'NN'), ('i', 'NN'), ('o', 'VBP'), ('n', 'JJ'), (' ', 'NNP'), ('o', 'NN'), ('f', 'NN'), (' ', 'NNP'), ('t', 'NN'), ('h', 'NN'), ('e', 'NN'), (' ', 'NNP'), ('i', 'NN'), ('n', 'VBP'), ('t', 'NN'), ('e', 'NN'), ('n', 'JJ'), ('t', 'NN'), (' ', 'NNP'), ('t', 'NN'), ('o', 'NN'), (' ', 'NNP'), ('k', 'NN'), ('i', 'NN'), ('l', 'VBP'), ('l', 'NN'), ('.', '.'), (' ', 'CC'), ('T', 'NNP'), ('h', 'VBP'), ('e', 'JJ'), (' ', 'NNP'), ('c', 'NN'), ('o', 'NN'), ('u', 'JJ'), ('r', 'NN'), ('t', 'NN'), ('s', 'NN'), (' ', 'NN'), ('b', 'NN'), ('r', 'NN'), ('o', 'IN'), ('a', 'DT'), ('d', 'NN'), ('e', 'NN'), ('n', 'JJ'), ('e', 'NN'), ('d', 'NN'), (' ', 'NNP'), ('t', 'NN'), ('h', 'NN'), ('e', 'NN'), (' ', 'NNP'), ('s', 'VBZ'), ('c', 'JJ'), ('o', 'JJ'), ('p', 'NN'), ('e', 'NN'), (' ', 'NNP'), ('o', 'VBZ'), ('f', 'JJ'), (' ', 'NNP'), ('m', 'NN'), ('u', 'JJ'), ('r', 'NN'), ('d', 'NN'), ('e', 'NN'), ('r', 'NN'), (' ', 'NN'), ('b', 'NN'), ('y', 'NN'), (' ', 'NNP'), ('e', 'NN'), ('l', 'NN'), ('i', 'VBP'), ('m', 'VBP'), ('i', 'JJ'), ('n', 'VBP'), ('a', 'DT'), ('t', 'NN'), ('i', 'NN'), ('n', 'VBP'), ('g', 'NN'), (' ', 'NNP'), ('t', 'NN'), ('h', 'NN'), ('e', 'NN'), (' ', 'NNP'), ('r', 'NN'), ('e', 'NN'), ('q', 'IN'), ('u', 'JJ'), ('i', 'NN'), ('r', 'VBP'), ('e', 'NN'), ('m', 'NN'), ('e', 'NN'), ('n', 'JJ'), ('t', 'NN'), (' ', 'NNP'), ('o', 'VBZ'), ('f', 'JJ'), (' ', 'IN'), ('a', 'DT'), ('c', 'JJ'), ('t', 'NN'), ('u', 'IN'), ('a', 'DT'), ('l', 'NN'), (' ', 'NN'), ('p', 'NN'), ('r', 'NN'), ('e', 'NN'), ('m', 'NN'), ('e', 'NN'), ('d', 'NN'), ('i', 'NN'), ('t', 'VBP'), ('a', 'DT'), ('t', 'NN'), ('i', 'NN'), ('o', 'VBP'), ('n', 'RB'), (' ', 'VBP'), ('a', 'DT'), ('n', 'JJ'), ('d', 'NN'), (' ', 'NNP'), ('d', 'NN'), ('e', 'NN'), ('l', 'NN'), ('i', 'NN'), ('b', 'VBP'), ('e', 'NN'), ('r', 'NN'), ('a', 'DT'), ('t', 'NN'), ('i', 'NN'), ('o', 'VBP'), ('n', 'RB'), (' ', 'VBP'), ('a', 'DT'), ('s', 'NN'), (' ', 'NNP'), ('w', 'NN'), ('e', 'NN'), ('l', 'NN'), ('l', 'NN'), (' ', 'VBZ'), ('a', 'DT'), ('s', 'JJ'), (' ', 'NN'), ('t', 'NN'), ('r', 'NN'), ('u', 'JJ'), ('e', 'NN'), (' ', 'NNP'), ('m', 'VBZ'), ('a', 'DT'), ('l', 'NN'), ('i', 'NN'), ('c', 'VBP'), ('e', 'NN'), ('.', '.'), (' ', 'VB'), ('A', 'DT'), ('l', 'NN'), ('l', 'NN'), (' ', 'NNP'), ('t', 'NN'), ('h', 'VBD'), ('a', 'DT'), ('t', 'NN'), (' ', 'NNP'), ('w', 'VBZ'), ('a', 'DT'), ('s', 'NN'), (' ', 'NNP'), ('r', 'NN'), ('e', 'NN'), ('q', 'IN'), ('u', 'JJ'), ('i', 'NN'), ('r', 'VBP'), ('e', 'NN'), ('d', 'NN'), (' ', 'NNP'), ('f', 'NN'), ('o', 'NN'), ('r', 'NN'), (' ', 'NNP'), ('m', 'VBZ'), ('a', 'DT'), ('l', 'NN'), ('i', 'NN'), ('c', 'VBP'), ('e', 'NN'), (' ', 'VBP'), ('a', 'DT'), ('f', 'NN'), ('o', 'NN'), ('r', 'NN'), ('e', 'NN'), ('t', 'NN'), ('h', 'NN'), ('o', 'JJ'), ('u', 'JJ'), ('g', 'NN'), ('h', 'NN'), ('t', 'NN'), (' ', 'NNP'), ('t', 'NN'), ('o', 'NN'), (' ', 'NNP'), ('e', 'NN'), ('x', 'NN'), ('i', 'NN'), ('s', 'VBP'), ('t', 'IN'), (' ', 'NN'), ('i', 'NN'), ('s', 'VBP'), (' ', 'JJ'), ('t', 'NN'), ('h', 'VBD'), ('a', 'DT'), ('t', 'NN'), (' ', 'NNP'), ('t', 'NN'), ('h', 'NN'), ('e', 'NN'), (' ', 'NNP'), ('p', 'NN'), ('e', 'NN'), ('r', 'NN'), ('p', 'NN'), ('e', 'NN'), ('t', 'NN'), ('r', 'VBZ'), ('a', 'DT'), ('t', 'NN'), ('o', 'NN'), ('r', 'NN'), (' ', 'VBZ'), ('a', 'DT'), ('c', 'JJ'), ('t', 'NN'), (' ', 'NNP'), ('w', 'NN'), ('i', 'NN'), ('t', 'VBP'), ('h', 'NN'), (' ', 'NNP'), ('o', 'VBZ'), ('n', 'JJ'), ('e', 'NN'), (' ', 'NNP'), ('o', 'VBZ'), ('f', 'JJ'), (' ', 'NNP'), ('t', 'NN'), ('h', 'NN'), ('e', 'NN'), (' ', 'NNP'), ('f', 'NN'), ('o', 'NN'), ('u', 'JJ'), ('r', 'NN'), (' ', 'NNP'), ('s', 'VBZ'), ('t', 'VB'), ('a', 'DT'), ('t', 'NN'), ('e', 'NN'), ('s', 'NN'), (' ', 'NNP'), ('o', 'VBZ'), ('f', 'JJ'), (' ', 'NNP'), ('m', 'NN'), ('i', 'NN'), ('n', 'VBP'), ('d', 'NN'), (' ', 'NNP'), ('t', 'NN'), ('h', 'VBD'), ('a', 'DT'), ('t', 'NN'), (' ', 'NNP'), ('c', 'VBZ'), ('o', 'JJ'), ('n', 'JJ'), ('s', 'NN'), ('t', 'NN'), ('i', 'NN'), ('t', 'VBP'), ('u', 'JJ'), ('t', 'NN'), ('e', 'NN'), ('s', 'VBD'), (' ', 'NNP'), (\"'\", 'POS'), ('m', 'NN'), ('a', 'DT'), ('l', 'NN'), ('i', 'NN'), ('c', 'VBP'), ('e', 'NN'), (\"'\", \"''\"), ('.', '.')]\n"
     ]
    }
   ],
   "source": [
    "import nltk\n",
    "#nltk.download('averaged_perceptron_tagger')\n",
    "st=\"With malice aforethought – Originally malice aforethought carried its everyday meaning – a deliberate and premeditated (prior intent) killing of another motivated by ill will. Murder necessarily required that an appreciable time pass between the formation and execution of the intent to kill. The courts broadened the scope of murder by eliminating the requirement of actual premeditation and deliberation as well as true malice. All that was required for malice aforethought to exist is that the perpetrator act with one of the four states of mind that constitutes 'malice'.\"\n",
    "tag=nltk.pos_tag(st)# tagging a paragraph\n",
    "print(tag)"
   ]
  },
  {
   "cell_type": "code",
   "execution_count": null,
   "metadata": {},
   "outputs": [],
   "source": []
  }
 ],
 "metadata": {
  "kernelspec": {
   "display_name": "Python 3",
   "language": "python",
   "name": "python3"
  },
  "language_info": {
   "codemirror_mode": {
    "name": "ipython",
    "version": 3
   },
   "file_extension": ".py",
   "mimetype": "text/x-python",
   "name": "python",
   "nbconvert_exporter": "python",
   "pygments_lexer": "ipython3",
   "version": "3.7.4"
  }
 },
 "nbformat": 4,
 "nbformat_minor": 4
}
