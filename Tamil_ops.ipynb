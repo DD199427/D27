{
 "cells": [
  {
   "cell_type": "code",
   "execution_count": 36,
   "metadata": {},
   "outputs": [],
   "source": [
    "from indicnlp import common\n",
    "from indicnlp import loader\n",
    "from indicnlp.tokenize import indic_tokenize\n",
    "from indicnlp.morph import unsupervised_morph"
   ]
  },
  {
   "cell_type": "code",
   "execution_count": 3,
   "metadata": {},
   "outputs": [],
   "source": [
    "# The path to the local git repo for Indic NLP Resources\n",
    "INDIC_NLP_RESOURCES = r\"resource_path\""
   ]
  },
  {
   "cell_type": "code",
   "execution_count": 5,
   "metadata": {},
   "outputs": [],
   "source": [
    "# Export the path to the Indic NLP Resources directory programmatically\n",
    "common.set_resources_path(INDIC_NLP_RESOURCES)"
   ]
  },
  {
   "cell_type": "code",
   "execution_count": 7,
   "metadata": {},
   "outputs": [
    {
     "data": {
      "text/plain": [
       "<function indicnlp.loader.load()>"
      ]
     },
     "execution_count": 7,
     "metadata": {},
     "output_type": "execute_result"
    }
   ],
   "source": [
    "# Initialize the Indic NLP library\n",
    "loader.load"
   ]
  },
  {
   "cell_type": "code",
   "execution_count": 8,
   "metadata": {},
   "outputs": [
    {
     "name": "stdout",
     "output_type": "stream",
     "text": [
      "Input String: புத்துணர்ச்சியான சுவாசம் மற்றும் பளபளப்பான பற்கள் தங்களின் தோற்றத்தை நிர்ணயிக்கிறது\n",
      "Tokens: \n",
      "புத்துணர்ச்சியான\n",
      "சுவாசம்\n",
      "மற்றும்\n",
      "பளபளப்பான\n",
      "பற்கள்\n",
      "தங்களின்\n",
      "தோற்றத்தை\n",
      "நிர்ணயிக்கிறது\n"
     ]
    }
   ],
   "source": [
    "# Tokenization\n",
    "indic_string = 'புத்துணர்ச்சியான சுவாசம் மற்றும் பளபளப்பான பற்கள் தங்களின் தோற்றத்தை நிர்ணயிக்கிறது'\n",
    "print('Input String: {}'.format(indic_string))\n",
    "print('Tokens: ')\n",
    "for t in indic_tokenize.trivial_tokenize(indic_string):\n",
    "        print(t)"
   ]
  },
  {
   "cell_type": "code",
   "execution_count": 21,
   "metadata": {},
   "outputs": [],
   "source": [
    "tokenizer =  nltk.TweetTokenizer()"
   ]
  },
  {
   "cell_type": "code",
   "execution_count": 23,
   "metadata": {},
   "outputs": [],
   "source": [
    "SENTENCE_TAM = 'தமிழ் மொழி (Tamil language) தமிழர்களினதும், தமிழ் பேசும் பலரதும் தாய்மொழி ஆகும்.'"
   ]
  },
  {
   "cell_type": "code",
   "execution_count": 24,
   "metadata": {},
   "outputs": [
    {
     "data": {
      "text/plain": [
       "['தம',\n",
       " 'ி',\n",
       " 'ழ',\n",
       " '்',\n",
       " 'ம',\n",
       " 'ொ',\n",
       " 'ழ',\n",
       " 'ி',\n",
       " '(',\n",
       " 'Tamil',\n",
       " 'language',\n",
       " ')',\n",
       " 'தம',\n",
       " 'ி',\n",
       " 'ழர',\n",
       " '்',\n",
       " 'கள',\n",
       " 'ி',\n",
       " 'னத',\n",
       " 'ு',\n",
       " 'ம',\n",
       " '்',\n",
       " ',',\n",
       " 'தம',\n",
       " 'ி',\n",
       " 'ழ',\n",
       " '்',\n",
       " 'ப',\n",
       " 'ே',\n",
       " 'ச',\n",
       " 'ு',\n",
       " 'ம',\n",
       " '்',\n",
       " 'பலரத',\n",
       " 'ு',\n",
       " 'ம',\n",
       " '்',\n",
       " 'த',\n",
       " 'ா',\n",
       " 'ய',\n",
       " '்',\n",
       " 'ம',\n",
       " 'ொ',\n",
       " 'ழ',\n",
       " 'ி',\n",
       " 'ஆக',\n",
       " 'ு',\n",
       " 'ம',\n",
       " '்',\n",
       " '.']"
      ]
     },
     "execution_count": 24,
     "metadata": {},
     "output_type": "execute_result"
    }
   ],
   "source": [
    "tokenizer.tokenize(SENTENCE_TAM)"
   ]
  },
  {
   "cell_type": "code",
   "execution_count": 49,
   "metadata": {},
   "outputs": [
    {
     "name": "stdout",
     "output_type": "stream",
     "text": [
      "['புத்துணர்ச்சி', 'யான']\n"
     ]
    }
   ],
   "source": [
    "# MOrph Analysis\n",
    "from indicnlp import common\n",
    "from indicnlp import loader\n",
    "from indicnlp.morph import unsupervised_morph\n",
    "\n",
    "# The path to the local git repo for Indic NLP Resources\n",
    "INDIC_NLP_RESOURCES = r\"C:\\Users\\ADITYA\\Desktop\\indic_nlp_resources-master\"\n",
    "\n",
    "# Export the path to the Indic NLP Resources directory programmatically\n",
    "common.set_resources_path(INDIC_NLP_RESOURCES)\n",
    "\n",
    "# Initialize the Indic NLP library\n",
    "loader.load\n",
    "\n",
    "# Morphological Analyser\n",
    "analyzer = unsupervised_morph.UnsupervisedMorphAnalyzer('ta')\n",
    "indic_string = 'புத்துணர்ச்சியான'\n",
    "\n",
    "analyzes_tokens = analyzer.morph_analyze_document(indic_string.split(' '))\n",
    "print(analyzes_tokens)"
   ]
  },
  {
   "cell_type": "code",
   "execution_count": 112,
   "metadata": {},
   "outputs": [
    {
     "name": "stdout",
     "output_type": "stream",
     "text": [
      "iTrans transliteration: \n",
      "ுுணிான ுாச மு பளபளான பக தகி ோறை ிணிிறு\n",
      "Brahmi-net transliterations:\n"
     ]
    }
   ],
   "source": [
    "import requests\n",
    "\n",
    "from indicnlp import common\n",
    "from indicnlp import loader\n",
    "from urllib.parse import quote\n",
    "from indicnlp.transliterate.unicode_transliterate import ItransTransliterator\n",
    "\n",
    "# The path to the local git repo for Indic NLP Resources\n",
    "INDIC_NLP_RESOURCES = r\"F:\\University\\Final_Year\\FYP\\Resources\\indic_nlp_resources-master\\indic_nlp_resources-master\"\n",
    "\n",
    "# Export the path to the Indic NLP Resources directory programmatically\n",
    "common.set_resources_path(INDIC_NLP_RESOURCES)\n",
    "\n",
    "# Initialize the Indic NLP library\n",
    "loader.load\n",
    "\n",
    "# Transliteration\n",
    "input_text = 'புத்துணர்ச்சியான சுவாசம் மற்றும் பளபளப்பான பற்கள் தங்களின் தோற்றத்தை நிர்ணயிக்கிறது'\n",
    "lang = 'ta'\n",
    "print('iTrans transliteration: ')\n",
    "print(ItransTransliterator.to_itrans(input_text, lang))\n",
    "\n",
    "# transliteration with brahmi api\n",
    "text = quote('புத்துணர்ச்சியான சுவாசம் மற்றும் பளபளப்பான பற்கள் தங்களின் தோற்றத்தை நிர்ணயிக்கிறது')\n",
    "#url = r\"http://www.cfilt.iitb.ac.in/indicnlpweb/indicnlpws/transliterate_bulk/ta/en/{}/rule\".format(textsponse = requests.get(url))\n",
    "print('Brahmi-net transliterations:')\n",
    "#print(response.json())"
   ]
  },
  {
   "cell_type": "code",
   "execution_count": 86,
   "metadata": {},
   "outputs": [],
   "source": [
    "contents =['என்று','மற்றும்']"
   ]
  },
  {
   "cell_type": "code",
   "execution_count": 88,
   "metadata": {},
   "outputs": [
    {
     "name": "stdout",
     "output_type": "stream",
     "text": [
      "['புத்துணர்ச்சியான', 'சுவாசம்', 'பளபளப்பான', 'பற்கள்', 'தங்களின்', 'தோற்றத்தை', 'நிர்ணயிக்கிறது']\n"
     ]
    }
   ],
   "source": [
    "query = 'புத்துணர்ச்சியான சுவாசம் மற்றும் பளபளப்பான பற்கள் தங்களின் தோற்றத்தை நிர்ணயிக்கிறது'\n",
    "query=list(query.split())\n",
    "parse=[]\n",
    "for word in query:\n",
    "    if word not in contents:\n",
    "        parse.append(word)\n",
    "print(parse)"
   ]
  },
  {
   "cell_type": "code",
   "execution_count": 94,
   "metadata": {},
   "outputs": [],
   "source": [
    "doc=r\"C:\\Users\\ADITYA\\Desktop\\Tamil_stop.txt\""
   ]
  },
  {
   "cell_type": "code",
   "execution_count": 98,
   "metadata": {},
   "outputs": [],
   "source": [
    "file = open(doc, encoding=\"utf8\")\n",
    "cont=[]"
   ]
  },
  {
   "cell_type": "code",
   "execution_count": 101,
   "metadata": {},
   "outputs": [
    {
     "name": "stdout",
     "output_type": "stream",
     "text": [
      "['புத்துணர்ச்சியான', 'சுவாசம்', 'மற்றும்', 'பளபளப்பான', 'பற்கள்', 'தங்களின்', 'தோற்றத்தை', 'நிர்ணயிக்கிறது']\n"
     ]
    }
   ],
   "source": [
    "query = 'புத்துணர்ச்சியான சுவாசம் மற்றும் பளபளப்பான பற்கள் தங்களின் தோற்றத்தை நிர்ணயிக்கிறது'\n",
    "query=list(query.split())\n",
    "parse=[]\n",
    "for word in query:\n",
    "    if word not in cont:\n",
    "        parse.append(word)\n",
    "print(parse)"
   ]
  },
  {
   "cell_type": "code",
   "execution_count": 111,
   "metadata": {},
   "outputs": [
    {
     "name": "stdout",
     "output_type": "stream",
     "text": [
      "(8, 9)\n",
      "[[0.         0.         0.         1.         0.         0.\n",
      "  0.         0.         0.        ]\n",
      " [0.         1.         0.         0.         0.         0.\n",
      "  0.         0.         0.        ]\n",
      " [0.         0.         0.         0.         0.         0.\n",
      "  0.         1.         0.        ]\n",
      " [0.         0.         0.         0.         0.         0.\n",
      "  1.         0.         0.        ]\n",
      " [0.64232803 0.         0.         0.         0.         0.76642984\n",
      "  0.         0.         0.        ]\n",
      " [0.64232803 0.         0.         0.         0.76642984 0.\n",
      "  0.         0.         0.        ]\n",
      " [0.         0.         0.         0.         0.         0.\n",
      "  0.         0.         1.        ]\n",
      " [0.         0.         0.76642984 0.         0.         0.\n",
      "  0.         0.         0.64232803]]\n",
      "  (0, 3)\t1.0\n",
      "  (1, 1)\t1.0\n",
      "  (2, 7)\t1.0\n",
      "  (3, 6)\t1.0\n",
      "  (4, 5)\t0.7664298449085388\n",
      "  (4, 0)\t0.6423280258820045\n",
      "  (5, 4)\t0.7664298449085388\n",
      "  (5, 0)\t0.6423280258820045\n",
      "  (6, 8)\t1.0\n",
      "  (7, 8)\t0.6423280258820045\n",
      "  (7, 2)\t0.7664298449085388\n"
     ]
    }
   ],
   "source": [
    "#TF-IDF vectorisation\n",
    "from sklearn.feature_extraction.text import TfidfVectorizer\n",
    "# create the transform\n",
    "vectorizer = TfidfVectorizer()\n",
    "# tokenize and build vocab\n",
    "vectorizer.fit_transform(query)\n",
    "# summarize\n",
    "(vectorizer.vocabulary_)\n",
    "(vectorizer.idf_)\n",
    "# encode document\n",
    "vector = vectorizer.transform(query)\n",
    "# summarize encoded vector\n",
    "print(vector.shape)\n",
    "print(vector.toarray())\n",
    "X=vector.astype('float')\n",
    "print(X)"
   ]
  },
  {
   "cell_type": "code",
   "execution_count": null,
   "metadata": {},
   "outputs": [],
   "source": []
  }
 ],
 "metadata": {
  "kernelspec": {
   "display_name": "Python 3",
   "language": "python",
   "name": "python3"
  },
  "language_info": {
   "codemirror_mode": {
    "name": "ipython",
    "version": 3
   },
   "file_extension": ".py",
   "mimetype": "text/x-python",
   "name": "python",
   "nbconvert_exporter": "python",
   "pygments_lexer": "ipython3",
   "version": "3.7.4"
  }
 },
 "nbformat": 4,
 "nbformat_minor": 4
}
